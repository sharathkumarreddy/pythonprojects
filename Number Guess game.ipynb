{
 "cells": [
  {
   "cell_type": "code",
   "execution_count": 1,
   "metadata": {
    "collapsed": false
   },
   "outputs": [
    {
     "ename": "ImportError",
     "evalue": "No module named ramdom",
     "output_type": "error",
     "traceback": [
      "\u001b[0;31m---------------------------------------------------------------------------\u001b[0m",
      "\u001b[0;31mImportError\u001b[0m                               Traceback (most recent call last)",
      "\u001b[0;32m<ipython-input-1-9ab801c194b3>\u001b[0m in \u001b[0;36m<module>\u001b[0;34m()\u001b[0m\n\u001b[0;32m----> 1\u001b[0;31m \u001b[1;32mimport\u001b[0m \u001b[0mramdom\u001b[0m\u001b[1;33m\u001b[0m\u001b[0m\n\u001b[0m",
      "\u001b[0;31mImportError\u001b[0m: No module named ramdom"
     ]
    }
   ],
   "source": [
    "import ramdom"
   ]
  },
  {
   "cell_type": "code",
   "execution_count": 2,
   "metadata": {
    "collapsed": false
   },
   "outputs": [
    {
     "ename": "SyntaxError",
     "evalue": "invalid syntax (<ipython-input-2-2238372486d7>, line 1)",
     "output_type": "error",
     "traceback": [
      "\u001b[0;36m  File \u001b[0;32m\"<ipython-input-2-2238372486d7>\"\u001b[0;36m, line \u001b[0;32m1\u001b[0m\n\u001b[0;31m    import random()\u001b[0m\n\u001b[0m                 ^\u001b[0m\n\u001b[0;31mSyntaxError\u001b[0m\u001b[0;31m:\u001b[0m invalid syntax\n"
     ]
    }
   ],
   "source": [
    "import random()"
   ]
  },
  {
   "cell_type": "code",
   "execution_count": 3,
   "metadata": {
    "collapsed": true
   },
   "outputs": [],
   "source": [
    "import random"
   ]
  },
  {
   "cell_type": "code",
   "execution_count": 4,
   "metadata": {
    "collapsed": false
   },
   "outputs": [
    {
     "data": {
      "text/plain": [
       "4"
      ]
     },
     "execution_count": 4,
     "metadata": {},
     "output_type": "execute_result"
    }
   ],
   "source": [
    "random.randint(1,6)"
   ]
  },
  {
   "cell_type": "code",
   "execution_count": 5,
   "metadata": {
    "collapsed": false
   },
   "outputs": [
    {
     "data": {
      "text/plain": [
       "5"
      ]
     },
     "execution_count": 5,
     "metadata": {},
     "output_type": "execute_result"
    }
   ],
   "source": [
    "random.randint(1,6)"
   ]
  },
  {
   "cell_type": "code",
   "execution_count": 6,
   "metadata": {
    "collapsed": false
   },
   "outputs": [
    {
     "data": {
      "text/plain": [
       "2"
      ]
     },
     "execution_count": 6,
     "metadata": {},
     "output_type": "execute_result"
    }
   ],
   "source": [
    "random.randint(1,6)"
   ]
  },
  {
   "cell_type": "code",
   "execution_count": 7,
   "metadata": {
    "collapsed": false
   },
   "outputs": [
    {
     "data": {
      "text/plain": [
       "5"
      ]
     },
     "execution_count": 7,
     "metadata": {},
     "output_type": "execute_result"
    }
   ],
   "source": [
    "random.randint(1,6)"
   ]
  },
  {
   "cell_type": "code",
   "execution_count": null,
   "metadata": {
    "collapsed": true
   },
   "outputs": [],
   "source": [
    "import randomum\n",
    "Number_Guesses = 0\n",
    "\n",
    "Number = random.randint(1,10)\n",
    "while Number_Guesses < 4:\n",
    "    Enum = raw_input('Enter a guess a number between 1 and 10')\n",
    "    Gnum = int(Enum)\n",
    "    if Gnum < Number:\n",
    "        print 'Your Number is low {0}'.format(Number)\n",
    "    if Gnum > Number:\n",
    "        print 'Your Number is low {0}'.format(Number)\n",
    "    if Gnum == Number:\n",
    "        print 'Yeh You Gussed the Number {0}'.format(Number)\n",
    "        break\n",
    "if Gnum != Number:\n",
    "    print \"The Number is \"+Gnum\n",
    "    "
   ]
  },
  {
   "cell_type": "code",
   "execution_count": 11,
   "metadata": {
    "collapsed": false
   },
   "outputs": [
    {
     "ename": "SyntaxError",
     "evalue": "EOL while scanning string literal (<ipython-input-11-61b7db294798>, line 1)",
     "output_type": "error",
     "traceback": [
      "\u001b[0;36m  File \u001b[0;32m\"<ipython-input-11-61b7db294798>\"\u001b[0;36m, line \u001b[0;32m1\u001b[0m\n\u001b[0;31m    print ('Your Number is,' + Gnum +',)\u001b[0m\n\u001b[0m                                        ^\u001b[0m\n\u001b[0;31mSyntaxError\u001b[0m\u001b[0;31m:\u001b[0m EOL while scanning string literal\n"
     ]
    }
   ],
   "source": [
    "print ('Your Number is,' + Gnum +',) "
   ]
  },
  {
   "cell_type": "code",
   "execution_count": 12,
   "metadata": {
    "collapsed": false
   },
   "outputs": [
    {
     "ename": "SyntaxError",
     "evalue": "invalid syntax (<ipython-input-12-bf587d2f9027>, line 2)",
     "output_type": "error",
     "traceback": [
      "\u001b[0;36m  File \u001b[0;32m\"<ipython-input-12-bf587d2f9027>\"\u001b[0;36m, line \u001b[0;32m2\u001b[0m\n\u001b[0;31m    print \"Your Number is\"+Gnum+\u001b[0m\n\u001b[0m                                ^\u001b[0m\n\u001b[0;31mSyntaxError\u001b[0m\u001b[0;31m:\u001b[0m invalid syntax\n"
     ]
    }
   ],
   "source": [
    "Gnum = \"fff\"\n",
    "print \"Your Number is\"+Gnum+"
   ]
  },
  {
   "cell_type": "code",
   "execution_count": 14,
   "metadata": {
    "collapsed": false
   },
   "outputs": [
    {
     "name": "stdout",
     "output_type": "stream",
     "text": [
      "Your Number isfff\n"
     ]
    }
   ],
   "source": [
    "Gnum = \"fff\"\n",
    "print \"Your Number is\"+Gnum"
   ]
  },
  {
   "cell_type": "code",
   "execution_count": 16,
   "metadata": {
    "collapsed": false
   },
   "outputs": [
    {
     "name": "stdout",
     "output_type": "stream",
     "text": [
      "Enter a guess a number between 1 and 105\n",
      "Yeh You Gussed the Number 5\n"
     ]
    }
   ],
   "source": [
    "import random\n",
    "Number_Guesses = 0\n",
    "\n",
    "Number = random.randint(1,10)\n",
    "while Number_Guesses < 4:\n",
    "    Enum = raw_input('Enter a guess a number between 1 and 10')\n",
    "    Gnum = int(Enum)\n",
    "    if Gnum < Number:\n",
    "        print 'Your Number is low {0}'.format(Number)\n",
    "    if Gnum > Number:\n",
    "        print 'Your Number is low {0}'.format(Number)\n",
    "    if Gnum == Number:\n",
    "        print 'Yeh You Gussed the Number {0}'.format(Number)\n",
    "        break\n",
    "if Gnum != Number:\n",
    "    print \"The Number is \"+Gnum"
   ]
  },
  {
   "cell_type": "code",
   "execution_count": 17,
   "metadata": {
    "collapsed": false
   },
   "outputs": [
    {
     "name": "stdout",
     "output_type": "stream",
     "text": [
      "Enter a guess a number between 1 and 106\n",
      "Your Number is low 1\n",
      "Enter a guess a number between 1 and 109\n",
      "Your Number is low 1\n",
      "Enter a guess a number between 1 and 105\n",
      "Your Number is low 1\n",
      "Enter a guess a number between 1 and 101\n",
      "Yeh You Gussed the Number 1\n"
     ]
    }
   ],
   "source": [
    "import random\n",
    "Number_Guesses = 0\n",
    "\n",
    "Number = random.randint(1,10)\n",
    "while Number_Guesses < 4:\n",
    "    Enum = raw_input('Enter a guess a number between 1 and 10')\n",
    "    Gnum = int(Enum)\n",
    "    if Gnum < Number:\n",
    "        print 'Your Number is low {0}'.format(Number)\n",
    "    if Gnum > Number:\n",
    "        print 'Your Number is low {0}'.format(Number)\n",
    "    if Gnum == Number:\n",
    "        print 'Yeh You Gussed the Number {0}'.format(Number)\n",
    "        break\n",
    "if Gnum != Number:\n",
    "    print \"The Number is \"+Gnum"
   ]
  },
  {
   "cell_type": "code",
   "execution_count": null,
   "metadata": {
    "collapsed": false
   },
   "outputs": [
    {
     "name": "stdout",
     "output_type": "stream",
     "text": [
      "Enter a guess a number between 1 and 106\n",
      "Your Number is low 9\n",
      "Enter a guess a number between 1 and 107\n",
      "Your Number is low 9\n",
      "Enter a guess a number between 1 and 108\n",
      "Your Number is low 9\n",
      "Enter a guess a number between 1 and 105\n",
      "Your Number is low 9\n",
      "Enter a guess a number between 1 and 106\n",
      "Your Number is low 9\n"
     ]
    }
   ],
   "source": [
    "import random\n",
    "Number_Guesses = 0\n",
    "\n",
    "Number = random.randint(1,10)\n",
    "while Number_Guesses < 4:\n",
    "    Enum = raw_input('Enter a guess a number between 1 and 10')\n",
    "    Gnum = int(Enum)\n",
    "    if Gnum < Number:\n",
    "        print 'Your Number is low {0}'.format(Number)\n",
    "    if Gnum > Number:\n",
    "        print 'Your Number is low {0}'.format(Number)\n",
    "    if Gnum == Number:\n",
    "        print 'Yeh You Gussed the Number {0}'.format(Number)\n",
    "        break\n",
    "if Gnum != Number:\n",
    "    print \"The Number is \"+Gnum"
   ]
  },
  {
   "cell_type": "code",
   "execution_count": 1,
   "metadata": {
    "collapsed": false
   },
   "outputs": [
    {
     "ename": "SyntaxError",
     "evalue": "invalid syntax (<ipython-input-1-4d1b342a2f6b>, line 8)",
     "output_type": "error",
     "traceback": [
      "\u001b[0;36m  File \u001b[0;32m\"<ipython-input-1-4d1b342a2f6b>\"\u001b[0;36m, line \u001b[0;32m8\u001b[0m\n\u001b[0;31m    Number_Guesses = Number_Guesses+\u001b[0m\n\u001b[0m                                    ^\u001b[0m\n\u001b[0;31mSyntaxError\u001b[0m\u001b[0;31m:\u001b[0m invalid syntax\n"
     ]
    }
   ],
   "source": [
    "import random\n",
    "Number_Guesses = 0\n",
    "\n",
    "Number = random.randint(1,10)\n",
    "while Number_Guesses < 4:\n",
    "    Enum = raw_input('Enter a guess a number between 1 and 10')\n",
    "    Gnum = int(Enum)\n",
    "    Number_Guesses = Number_Guesses+\n",
    "    if Gnum < Number:\n",
    "        print 'Your Number is low {0}'.format(Number)\n",
    "    if Gnum > Number:\n",
    "        print 'Your Number is low {0}'.format(Number)\n",
    "    if Gnum == Number:\n",
    "        print 'Yeh You Gussed the Number {0}'.format(Number)\n",
    "        break\n",
    "if Gnum != Number:\n",
    "    print \"The Number is \"+Gnum"
   ]
  },
  {
   "cell_type": "code",
   "execution_count": null,
   "metadata": {
    "collapsed": false
   },
   "outputs": [
    {
     "name": "stdout",
     "output_type": "stream",
     "text": [
      "Enter a guess a number between 1 and 105\n",
      "Your Number is low 4\n"
     ]
    }
   ],
   "source": [
    "import random\n",
    "Number_Guesses = 0\n",
    "\n",
    "Number = random.randint(1,10)\n",
    "while Number_Guesses < 4:\n",
    "    Enum = raw_input('Enter a guess a number between 1 and 10')\n",
    "    Gnum = int(Enum)\n",
    "    Number_Guesses = Number_Guesses + 1\n",
    "    if Gnum < Number:\n",
    "        print 'Your Number is low {0}'.format(Number)\n",
    "    if Gnum > Number:\n",
    "        print 'Your Number is low {0}'.format(Number)\n",
    "    if Gnum == Number:\n",
    "        print 'Yeh You Gussed the Number {0}'.format(Number)\n",
    "        break\n",
    "if Gnum != Number:\n",
    "    print \"The Number is \"+Gnum"
   ]
  },
  {
   "cell_type": "code",
   "execution_count": null,
   "metadata": {
    "collapsed": false
   },
   "outputs": [
    {
     "name": "stdout",
     "output_type": "stream",
     "text": [
      "Enter a guess a number between 1 and 10 : 5\n",
      "Your Number is low 2\n",
      "Enter a guess a number between 1 and 10 : 6\n",
      "Your Number is low 2\n",
      "Enter a guess a number between 1 and 10 : 4\n",
      "Your Number is low 2\n",
      "Enter a guess a number between 1 and 10 : 6\n"
     ]
    }
   ],
   "source": [
    "import random\n",
    "Number_Guesses = 0\n",
    "\n",
    "Number = random.randint(1,10)\n",
    "while Number_Guesses < 4:\n",
    "    Enum = raw_input('Enter a guess a number between 1 and 10 : ')\n",
    "    Gnum = int(Enum)\n",
    "    Number_Guesses = Number_Guesses + 1\n",
    "    if Gnum < Number:\n",
    "        print 'Your Number is low {0}'.format(Number)\n",
    "    if Gnum > Number:\n",
    "        print 'Your Number is low {0}'.format(Number)\n",
    "    if Gnum == Number:\n",
    "        print 'Yeh You Gussed the Number {0}'.format(Number)\n",
    "        break\n",
    "if Gnum != Number:\n",
    "    print \"The Number is \"+Gnum"
   ]
  },
  {
   "cell_type": "code",
   "execution_count": 1,
   "metadata": {
    "collapsed": false
   },
   "outputs": [
    {
     "name": "stdout",
     "output_type": "stream",
     "text": [
      "Enter a guess a number between 1 and 10 : 3\n",
      "Your Number is low 5\n",
      "Enter a guess a number between 1 and 10 : 6\n",
      "Your Number is low 5\n",
      "Enter a guess a number between 1 and 10 : 9\n",
      "Your Number is low 5\n",
      "Enter a guess a number between 1 and 10 : 6\n",
      "Your Number is low 5\n"
     ]
    },
    {
     "ename": "TypeError",
     "evalue": "cannot concatenate 'str' and 'int' objects",
     "output_type": "error",
     "traceback": [
      "\u001b[0;31m---------------------------------------------------------------------------\u001b[0m",
      "\u001b[0;31mTypeError\u001b[0m                                 Traceback (most recent call last)",
      "\u001b[0;32m<ipython-input-1-d74d76e04175>\u001b[0m in \u001b[0;36m<module>\u001b[0;34m()\u001b[0m\n\u001b[1;32m     15\u001b[0m         \u001b[1;32mbreak\u001b[0m\u001b[1;33m\u001b[0m\u001b[0m\n\u001b[1;32m     16\u001b[0m \u001b[1;32mif\u001b[0m \u001b[0mGnum\u001b[0m \u001b[1;33m!=\u001b[0m \u001b[0mNumber\u001b[0m\u001b[1;33m:\u001b[0m\u001b[1;33m\u001b[0m\u001b[0m\n\u001b[0;32m---> 17\u001b[0;31m     \u001b[1;32mprint\u001b[0m \u001b[1;34m\"The Number is \"\u001b[0m\u001b[1;33m+\u001b[0m\u001b[0mGnum\u001b[0m\u001b[1;33m\u001b[0m\u001b[0m\n\u001b[0m",
      "\u001b[0;31mTypeError\u001b[0m: cannot concatenate 'str' and 'int' objects"
     ]
    }
   ],
   "source": [
    "import random\n",
    "Number_Guesses = 0\n",
    "\n",
    "Number = random.randint(1,10)\n",
    "while Number_Guesses < 4:\n",
    "    Enum = raw_input('Enter a guess a number between 1 and 10 : ')\n",
    "    Gnum = int(Enum)\n",
    "    Number_Guesses = Number_Guesses + 1\n",
    "    if Gnum < Number:\n",
    "        print 'Your Number is low {0}'.format(Number)\n",
    "    if Gnum > Number:\n",
    "        print 'Your Number is low {0}'.format(Number)\n",
    "    if Gnum == Number:\n",
    "        print 'Yeh You Gussed the Number {0}'.format(Number)\n",
    "        break\n",
    "if Gnum != Number:\n",
    "    print \"The Number is \"+Gnum"
   ]
  },
  {
   "cell_type": "code",
   "execution_count": 2,
   "metadata": {
    "collapsed": false
   },
   "outputs": [
    {
     "name": "stdout",
     "output_type": "stream",
     "text": [
      "Enter a guess a number between 1 and 10 : 6\n",
      "Your Number is low 8\n",
      "Enter a guess a number between 1 and 10 : 6\n",
      "Your Number is low 8\n",
      "Enter a guess a number between 1 and 10 : 4\n",
      "Your Number is low 8\n",
      "Enter a guess a number between 1 and 10 : 5\n",
      "Your Number is low 8\n",
      "The Number is 5\n"
     ]
    }
   ],
   "source": [
    "import random\n",
    "Number_Guesses = 0\n",
    "\n",
    "Number = random.randint(1,10)\n",
    "while Number_Guesses < 4:\n",
    "    Enum = raw_input('Enter a guess a number between 1 and 10 : ')\n",
    "    Gnum = int(Enum)\n",
    "    Number_Guesses = Number_Guesses + 1\n",
    "    if Gnum < Number:\n",
    "        print 'Your Number is low {0}'.format(Number)\n",
    "    if Gnum > Number:\n",
    "        print 'Your Number is low {0}'.format(Number)\n",
    "    if Gnum == Number:\n",
    "        print 'Yeh You Gussed the Number {0}'.format(Number)\n",
    "        break\n",
    "if Gnum != Number:\n",
    "    print \"The Number is \"+Gnum"
   ]
  },
  {
   "cell_type": "code",
   "execution_count": 3,
   "metadata": {
    "collapsed": false
   },
   "outputs": [
    {
     "name": "stdout",
     "output_type": "stream",
     "text": [
      "Enter a guess a number between 1 and 10 : 6\n",
      "Your Number is low 2\n",
      "Enter a guess a number between 1 and 10 : 5\n",
      "Your Number is low 2\n",
      "Enter a guess a number between 1 and 10 : 9\n",
      "Your Number is low 2\n",
      "Enter a guess a number between 1 and 10 : 4\n",
      "Your Number is low 2\n",
      "The Number is 2\n"
     ]
    }
   ],
   "source": [
    "import random\n",
    "Number_Guesses = 0\n",
    "\n",
    "Number = random.randint(1,10)\n",
    "while Number_Guesses < 4:\n",
    "    Enum = raw_input('Enter a guess a number between 1 and 10 : ')\n",
    "    Gnum = int(Enum)\n",
    "    Number_Guesses = Number_Guesses + 1\n",
    "    if Gnum < Number:\n",
    "        print 'Your Number is low {0}'.format(Number)\n",
    "    if Gnum > Number:\n",
    "        print 'Your Number is low {0}'.format(Number)\n",
    "    if Gnum == Number:\n",
    "        print 'Yeh You Gussed the Number {0}'.format(Number)\n",
    "        break\n",
    "if Gnum != Number:\n",
    "    print \"The Number is \"+str(Number)"
   ]
  },
  {
   "cell_type": "code",
   "execution_count": 4,
   "metadata": {
    "collapsed": false
   },
   "outputs": [
    {
     "name": "stdout",
     "output_type": "stream",
     "text": [
      "Enter a guess a number between 1 and 20 : 5\n",
      "Your Number is low 18\n",
      "Enter a guess a number between 1 and 20 : 19\n"
     ]
    },
    {
     "ename": "IndexError",
     "evalue": "tuple index out of range",
     "output_type": "error",
     "traceback": [
      "\u001b[0;31m---------------------------------------------------------------------------\u001b[0m",
      "\u001b[0;31mIndexError\u001b[0m                                Traceback (most recent call last)",
      "\u001b[0;32m<ipython-input-4-d1264a0734f8>\u001b[0m in \u001b[0;36m<module>\u001b[0;34m()\u001b[0m\n\u001b[1;32m     10\u001b[0m         \u001b[1;32mprint\u001b[0m \u001b[1;34m'Your Number is low {0}'\u001b[0m\u001b[1;33m.\u001b[0m\u001b[0mformat\u001b[0m\u001b[1;33m(\u001b[0m\u001b[0mNumber\u001b[0m\u001b[1;33m)\u001b[0m\u001b[1;33m\u001b[0m\u001b[0m\n\u001b[1;32m     11\u001b[0m     \u001b[1;32mif\u001b[0m \u001b[0mGnum\u001b[0m \u001b[1;33m>\u001b[0m \u001b[0mNumber\u001b[0m\u001b[1;33m:\u001b[0m\u001b[1;33m\u001b[0m\u001b[0m\n\u001b[0;32m---> 12\u001b[0;31m         \u001b[1;32mprint\u001b[0m \u001b[1;34m'Your Number is low {1}'\u001b[0m\u001b[1;33m.\u001b[0m\u001b[0mformat\u001b[0m\u001b[1;33m(\u001b[0m\u001b[0mNumber\u001b[0m\u001b[1;33m)\u001b[0m\u001b[1;33m\u001b[0m\u001b[0m\n\u001b[0m\u001b[1;32m     13\u001b[0m     \u001b[1;32mif\u001b[0m \u001b[0mGnum\u001b[0m \u001b[1;33m==\u001b[0m \u001b[0mNumber\u001b[0m\u001b[1;33m:\u001b[0m\u001b[1;33m\u001b[0m\u001b[0m\n\u001b[1;32m     14\u001b[0m         \u001b[1;32mprint\u001b[0m \u001b[1;34m'Yeh You Gussed the Number {0}'\u001b[0m\u001b[1;33m.\u001b[0m\u001b[0mformat\u001b[0m\u001b[1;33m(\u001b[0m\u001b[0mNumber\u001b[0m\u001b[1;33m)\u001b[0m\u001b[1;33m\u001b[0m\u001b[0m\n",
      "\u001b[0;31mIndexError\u001b[0m: tuple index out of range"
     ]
    }
   ],
   "source": [
    "import random\n",
    "Number_Guesses = 0\n",
    "\n",
    "Number = random.randint(1,20)\n",
    "while Number_Guesses < 4:\n",
    "    Enum = raw_input('Enter a guess a number between 1 and 20 : ')\n",
    "    Gnum = int(Enum)\n",
    "    Number_Guesses = Number_Guesses + 1\n",
    "    if Gnum < Number:\n",
    "        print 'Your Number is low {0}'.format(Number)\n",
    "    if Gnum > Number:\n",
    "        print 'Your Number is low {1}'.format(Number)\n",
    "    if Gnum == Number:\n",
    "        print 'Yeh You Gussed the Number {0}'.format(Number)\n",
    "        break\n",
    "if Gnum != Number:\n",
    "    print \"The Number is \"+str(Number)"
   ]
  },
  {
   "cell_type": "code",
   "execution_count": 5,
   "metadata": {
    "collapsed": false
   },
   "outputs": [
    {
     "name": "stdout",
     "output_type": "stream",
     "text": [
      "Enter a guess a number between 1 and 20 : 6\n",
      "Your Number is low 17\n",
      "Enter a guess a number between 1 and 20 : 7\n",
      "Your Number is low 17\n",
      "Enter a guess a number between 1 and 20 : 6\n",
      "Your Number is low 17\n",
      "Enter a guess a number between 1 and 20 : 9\n",
      "Your Number is low 17\n",
      "The Number is 17\n"
     ]
    }
   ],
   "source": [
    "import random\n",
    "Number_Guesses = 0\n",
    "\n",
    "Number = random.randint(1,20)\n",
    "while Number_Guesses < 4:\n",
    "    Enum = raw_input('Enter a guess a number between 1 and 20 : ')\n",
    "    Gnum = int(Enum)\n",
    "    Number_Guesses = Number_Guesses + 1\n",
    "    if Gnum < Number:\n",
    "        print 'Your Number is low {0}'.format(Number)\n",
    "    if Gnum > Number:\n",
    "        print 'Your Number is High {0}'.format(Number)\n",
    "    if Gnum == Number:\n",
    "        print 'Yeh You Gussed the Number {0}'.format(Number)\n",
    "        break\n",
    "if Gnum != Number:\n",
    "    print \"The Number is \"+str(Number)"
   ]
  },
  {
   "cell_type": "code",
   "execution_count": 42,
   "metadata": {
    "collapsed": false
   },
   "outputs": [
    {
     "name": "stdout",
     "output_type": "stream",
     "text": [
      "Enter a guess a number between 1 and 20 : 5\n",
      "Your Number is low  15\n",
      "Enter a guess a number between 1 and 20 : 9\n",
      "Your Number is low  15\n",
      "Enter a guess a number between 1 and 20 : 18\n",
      "Your Number is High  15\n",
      "Enter a guess a number between 1 and 20 : 4\n",
      "Your Number is low  15\n",
      "The Number is 15\n"
     ]
    }
   ],
   "source": [
    "import random\n",
    "Number_Guesses = 0\n",
    "\n",
    "Number = random.randint(1,20)\n",
    "while Number_Guesses < 4:\n",
    "    Enum = raw_input('Enter a guess a number between 1 and 20 : ')\n",
    "    Gnum = int(Enum)\n",
    "    Number_Guesses = Number_Guesses + 1\n",
    "    if Gnum < Number:\n",
    "        print 'Your Number is low ',Number\n",
    "    if Gnum > Number:\n",
    "        print 'Your Number is High ',Number\n",
    "    if Gnum == Number:\n",
    "        print 'Yeh You Gussed the Number ',Number\n",
    "        break\n",
    "if Gnum != Number:\n",
    "    print \"The Number is \"+str(Number)"
   ]
  },
  {
   "cell_type": "code",
   "execution_count": 41,
   "metadata": {
    "collapsed": false
   },
   "outputs": [
    {
     "data": {
      "text/plain": [
       "6"
      ]
     },
     "execution_count": 41,
     "metadata": {},
     "output_type": "execute_result"
    }
   ],
   "source": [
    "random.randint(1,20)"
   ]
  },
  {
   "cell_type": "code",
   "execution_count": 43,
   "metadata": {
    "collapsed": false
   },
   "outputs": [
    {
     "data": {
      "text/plain": [
       "int"
      ]
     },
     "execution_count": 43,
     "metadata": {},
     "output_type": "execute_result"
    }
   ],
   "source": [
    "type(random.randint(1,20))"
   ]
  },
  {
   "cell_type": "code",
   "execution_count": 44,
   "metadata": {
    "collapsed": false
   },
   "outputs": [
    {
     "data": {
      "text/plain": [
       "int"
      ]
     },
     "execution_count": 44,
     "metadata": {},
     "output_type": "execute_result"
    }
   ],
   "source": [
    "type(Number)"
   ]
  },
  {
   "cell_type": "code",
   "execution_count": 45,
   "metadata": {
    "collapsed": false
   },
   "outputs": [
    {
     "name": "stdout",
     "output_type": "stream",
     "text": [
      "Enter a guess a number between 1 and 20 : 4\n",
      "Your Number is low  7\n",
      "Enter a guess a number between 1 and 20 : 5\n",
      "Your Number is low  15\n",
      "Enter a guess a number between 1 and 20 : 5\n",
      "Your Number is High  2\n",
      "Enter a guess a number between 1 and 20 : 6\n",
      "Your Number is low  7\n",
      "The Number is 7\n"
     ]
    }
   ],
   "source": [
    "import random\n",
    "Number_Guesses = 0\n",
    "while Number_Guesses < 4:\n",
    "    Number = random.randint(1,20)\n",
    "    Enum = raw_input('Enter a guess a number between 1 and 20 : ')\n",
    "    Gnum = int(Enum)\n",
    "    Number_Guesses = Number_Guesses + 1\n",
    "    if Gnum < Number:\n",
    "        print 'Your Number is low ',Number\n",
    "    if Gnum > Number:\n",
    "        print 'Your Number is High ',Number\n",
    "    if Gnum == Number:\n",
    "        print 'Yeh You Gussed the Number ',Number\n",
    "        break\n",
    "if Gnum != Number:\n",
    "    print \"The Number is \"+str(Number)"
   ]
  },
  {
   "cell_type": "markdown",
   "metadata": {
    "collapsed": true
   },
   "source": [
    "import random\n",
    "Number_Guesses = 0\n",
    "while Number_Guesses < 4:\n",
    "    Number = random.randint(1,20)\n",
    "    Enum = raw_input('Enter a guess a number between 1 and 20 : ')\n",
    "    Gnum = int(Enum)\n",
    "    Number_Guesses = Number_Guesses + 1\n",
    "    if Gnum < Number:\n",
    "        print 'Your Number is low ',Number\n",
    "    if Gnum > Number:\n",
    "        print 'Your Number is High ',Number\n",
    "    if Gnum == Number:\n",
    "        print 'Yeh You Gussed the Number ',Number\n",
    "        break\n",
    "if Gnum != Number:\n",
    "    print \"The Number is \"+str(Number)"
   ]
  },
  {
   "cell_type": "code",
   "execution_count": 3,
   "metadata": {
    "collapsed": false
   },
   "outputs": [
    {
     "name": "stdout",
     "output_type": "stream",
     "text": [
      "Enter a guess a number between 1 and 20 : 1\n",
      "Your Number is low  18\n",
      "Enter a guess a number between 1 and 20 : 1\n",
      "Your Number is low  15\n",
      "Enter a guess a number between 1 and 20 : 1\n",
      "Your Number is low  19\n",
      "Enter a guess a number between 1 and 20 : 1\n",
      "Your Number is low  2\n",
      "The Number is 2\n"
     ]
    }
   ],
   "source": [
    "import random\n",
    "Number_Guesses = 0\n",
    "while Number_Guesses < 4:\n",
    "    Number = random.randint(1,20)\n",
    "    Enum = raw_input('Enter a guess a number between 1 and 20 : ')\n",
    "    Gnum = int(Enum)\n",
    "    Number_Guesses = Number_Guesses + 1\n",
    "    if Gnum < Number:\n",
    "        print 'Your Number is low ',Number\n",
    "    if Gnum > Number:\n",
    "        print 'Your Number is High ',Number\n",
    "    if Gnum == Number:\n",
    "        print 'Yeh You Gussed the Number ',Number\n",
    "        break\n",
    "if Gnum != Number:\n",
    "    print \"The Number is \"+str(Number)"
   ]
  },
  {
   "cell_type": "markdown",
   "metadata": {},
   "source": [
    "import random\n",
    "Number_Guesses = 0\n",
    "while Number_Guesses < 4:\n",
    "    Number = random.randint(1,20)\n",
    "    Enum = raw_input('Enter a guess a number between 1 and 20 : ')\n",
    "    Gnum = int(Enum)\n",
    "    Number_Guesses = Number_Guesses + 1\n",
    "    if Gnum < Number:\n",
    "        print 'Your Number is low ',Number\n",
    "    if Gnum > Number:\n",
    "        print 'Your Number is High ',Number\n",
    "    if Gnum == Number:\n",
    "        print 'Yeh You Gussed the Number ',Number\n",
    "        break\n",
    "if Gnum != Number:\n",
    "    print \"The Number is \"+str(Number)\n",
    "  "
   ]
  }
 ],
 "metadata": {
  "kernelspec": {
   "display_name": "Python 2",
   "language": "python",
   "name": "python2"
  },
  "language_info": {
   "codemirror_mode": {
    "name": "ipython",
    "version": 2
   },
   "file_extension": ".py",
   "mimetype": "text/x-python",
   "name": "python",
   "nbconvert_exporter": "python",
   "pygments_lexer": "ipython2",
   "version": "2.7.13"
  }
 },
 "nbformat": 4,
 "nbformat_minor": 2
}
