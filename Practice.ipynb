{
 "cells": [
  {
   "cell_type": "code",
   "execution_count": null,
   "metadata": {
    "collapsed": false
   },
   "outputs": [
    {
     "name": "stdout",
     "output_type": "stream",
     "text": [
      "\n",
      "    1.java\n",
      "    2.php\n",
      "    3.python\n",
      "    \n"
     ]
    }
   ],
   "source": [
    "while True:\n",
    "    print \"\"\"\n",
    "    1.java\n",
    "    2.php\n",
    "    3.python\n",
    "    \"\"\"\n",
    "    i=raw_input(\"Enter option:\")\n",
    "#    print \"some begining statements\"\n",
    "    if i==\"1\":\n",
    "        print \"show java details\\nselect another option: \" \n",
    "    elif i==\"2\":\n",
    "        print \"show php details\\nselect another option: \"\n",
    "    elif i==\"3\":\n",
    "        print \"show python details\\nselect another option: \"\n",
    "    else:\n",
    "        print \"wrong option\\nPlese Enter a Correct Value: \"\n",
    "#print \"other statements of prorgam\"\n",
    "#print \"ending statements\""
   ]
  },
  {
   "cell_type": "code",
   "execution_count": null,
   "metadata": {
    "collapsed": true
   },
   "outputs": [],
   "source": []
  }
 ],
 "metadata": {
  "kernelspec": {
   "display_name": "Python 2",
   "language": "python",
   "name": "python2"
  },
  "language_info": {
   "codemirror_mode": {
    "name": "ipython",
    "version": 2
   },
   "file_extension": ".py",
   "mimetype": "text/x-python",
   "name": "python",
   "nbconvert_exporter": "python",
   "pygments_lexer": "ipython2",
   "version": "2.7.13"
  }
 },
 "nbformat": 4,
 "nbformat_minor": 2
}
