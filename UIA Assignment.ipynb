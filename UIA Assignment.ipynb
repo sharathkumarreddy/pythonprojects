{
 "cells": [
  {
   "cell_type": "code",
   "execution_count": 5,
   "metadata": {
    "collapsed": false
   },
   "outputs": [
    {
     "name": "stdout",
     "output_type": "stream",
     "text": [
      "Welcome to the AGoS System of IUA\n",
      "Please Select an Option\n",
      "<A>dd details of a student.\n",
      "<S>earch student details for a student.\n",
      "<Q>uit.\n"
     ]
    }
   ],
   "source": [
    "print \"Welcome to the AGoS System of UIA\"\n",
    "print 'Please Select an Option\\n<A>add details of a student.\\n<S>search student details for a student.\\n<Q>quit.'"
   ]
  },
  {
   "cell_type": "code",
   "execution_count": null,
   "metadata": {
    "collapsed": false
   },
   "outputs": [
    {
     "name": "stdout",
     "output_type": "stream",
     "text": [
      "Welcome to the AGoS System of UIA\n",
      "Please Select an Option\n",
      "<A>add details of a student.\n",
      "<S>search student details for a student.\n",
      "<Q>quit.\n"
     ]
    }
   ],
   "source": [
    "print \"Welcome to the AGoS System of UIA\"\n",
    "print 'Please Select an Option\\n<A>add details of a student.\\n<S>search student details for a student.\\n<Q>quit.'\n",
    "a=raw_input(\"\")"
   ]
  },
  {
   "cell_type": "code",
   "execution_count": null,
   "metadata": {
    "collapsed": false
   },
   "outputs": [
    {
     "name": "stdout",
     "output_type": "stream",
     "text": [
      "Welcome to the AGoS System of UIA\n",
      "Please Select an Option\n",
      "<A>add details of a student.\n",
      "\n"
     ]
    }
   ],
   "source": [
    "while True:\n",
    "    print \"Welcome to the AGoS System of UIA\"\n",
    "    print 'Please Select an Option\\n<A>add details of a student.\\n'\n",
    "    '<S>search student details for a student.\\n<Q>quit.'\n",
    "    option = raw_input('Please Select an Option\\n<A>add details of a student.\\n'\n",
    "    '<S>search student details for a student.\\n<Q>quit.\\n')\n",
    "    "
   ]
  },
  {
   "cell_type": "code",
   "execution_count": null,
   "metadata": {
    "collapsed": false
   },
   "outputs": [
    {
     "name": "stdout",
     "output_type": "stream",
     "text": [
      "Welcome to the AGoS System of UIA\n",
      "Please Select an Option\n",
      "<A>add details of a student.\n",
      "<S>search student details for a student.\n",
      "<Q>quit.\n",
      "a\n",
      "Please enter the student ID101\n",
      "['101']\n",
      "Welcome to the AGoS System of UIA\n"
     ]
    }
   ],
   "source": [
    "while True:\n",
    "    print \"Welcome to the AGoS System of UIA\"\n",
    "    option = raw_input('Please Select an Option\\n<A>add details of a student.\\n'\n",
    "    '<S>search student details for a student.\\n<Q>quit.\\n')\n",
    "    details = []\n",
    "    if option == 'a':\n",
    "        details.append(raw_input('Please enter the student ID'))\n",
    "    print details\n",
    "    "
   ]
  },
  {
   "cell_type": "code",
   "execution_count": null,
   "metadata": {
    "collapsed": false
   },
   "outputs": [
    {
     "name": "stdout",
     "output_type": "stream",
     "text": [
      "Welcome to the AGoS System of UIA\n",
      "Please Select an Option\n",
      "<A>add details of a student.\n",
      "<S>search student details for a student.\n",
      "<Q>quit.\n",
      "a\n",
      "Please enter the student ID :111\n",
      "Please enter the student ID :sss\n",
      "Please enter the student ID :sss\n",
      "['111', 'sss', 'sss']\n",
      "Welcome to the AGoS System of UIA\n"
     ]
    }
   ],
   "source": [
    "while True:\n",
    "    print \"Welcome to the AGoS System of UIA\"\n",
    "    option = raw_input('Please Select an Option\\n<A>add details of a student.\\n'\n",
    "    '<S>search student details for a student.\\n<Q>quit.\\n')\n",
    "    details = []\n",
    "    if option == 'a':\n",
    "        details.append(raw_input('Please enter the student ID :'))\n",
    "        details.append(raw_input('Please enter the student ID :'))\n",
    "        details.append(raw_input('Please enter the student ID :'))\n",
    "    print details\n",
    "    "
   ]
  },
  {
   "cell_type": "code",
   "execution_count": null,
   "metadata": {
    "collapsed": false
   },
   "outputs": [
    {
     "name": "stdout",
     "output_type": "stream",
     "text": [
      "Welcome to the AGoS System of UIA\n",
      "Please Select an Option\n",
      "<A>add details of a student.\n",
      "<S>search student details for a student.\n",
      "<Q>quit.\n",
      "a\n",
      "Please enter the student ID :111\n",
      "Please enter the student name:dddd\n",
      "Please enter the marks for Assignment 1:80\n",
      "Please enter the marks for Assignment 2:90\n",
      "Please enter the marks for the Final Exam:82\n",
      "Thank you !\n",
      "Weighted mark for Assignment 1:,16\n",
      "['111', 'dddd', 80, 90, 82, 16]\n",
      "Welcome to the AGoS System of UIA\n"
     ]
    }
   ],
   "source": [
    "while True:\n",
    "    print \"Welcome to the AGoS System of UIA\"\n",
    "    option = raw_input('Please Select an Option\\n<A>add details of a student.\\n'\n",
    "    '<S>search student details for a student.\\n<Q>quit.\\n')\n",
    "    details = []\n",
    "    if option == 'a':\n",
    "        details.append(raw_input('Please enter the student ID :'))\n",
    "        details.append(raw_input('Please enter the student name:'))\n",
    "        details.append(int(raw_input('Please enter the marks for Assignment 1:')))\n",
    "        details.append(int(raw_input('Please enter the marks for Assignment 2:')))\n",
    "        details.append(int(raw_input('Please enter the marks for the Final Exam:')))\n",
    "        print \"Thank you !\"\n",
    "        if details[2] <= 80:\n",
    "            details.append(16)\n",
    "            print 'Weighted mark for Assignment 1:,{d[5]}'.format(d=details)\n",
    "        print details\n",
    "     \n",
    "    "
   ]
  },
  {
   "cell_type": "code",
   "execution_count": null,
   "metadata": {
    "collapsed": false
   },
   "outputs": [
    {
     "name": "stdout",
     "output_type": "stream",
     "text": [
      "Welcome to the AGoS System of UIA\n",
      "Please Select an Option\n",
      "<A>add details of a student.\n",
      "<S>search student details for a student.\n",
      "<Q>quit.\n",
      "a\n",
      "Please enter the student ID :444\n",
      "Please enter the student name:ffdfsdv\n",
      "Please enter the marks for Assignment 1:80\n",
      "Please enter the marks for Assignment 2:30\n",
      "Please enter the marks for the Final Exam:23\n",
      "Thank you !\n",
      "Weighted mark for Assignment 1:16\n",
      "Weighted mark for Assignment 2:27\n",
      "Total weighted mark of the assignments:43\n",
      "Weighted mark for the Final Exam is:11\n",
      "Total weighted mark for the subject::11\n",
      "['444', 'ffdfsdv', 80, 30, 23, 16, 27, 43, 11, 54]\n",
      "Welcome to the AGoS System of UIA\n"
     ]
    }
   ],
   "source": [
    "while True:\n",
    "    print \"Welcome to the AGoS System of UIA\"\n",
    "    option = raw_input('Please Select an Option\\n<A>add details of a student.\\n'\n",
    "    '<S>search student details for a student.\\n<Q>quit.\\n')\n",
    "    details = []\n",
    "    if option == 'a':\n",
    "        details.append(raw_input('Please enter the student ID :'))\n",
    "        details.append(raw_input('Please enter the student name:'))\n",
    "        details.append(int(raw_input('Please enter the marks for Assignment 1:')))\n",
    "        details.append(int(raw_input('Please enter the marks for Assignment 2:')))\n",
    "        details.append(int(raw_input('Please enter the marks for the Final Exam:')))\n",
    "        print \"Thank you !\"\n",
    "        if details[2] <= 80:\n",
    "            details.append(16)\n",
    "            details.append(27)\n",
    "            details.append(details[5]+details[6])\n",
    "            details.append(details[4]/2)\n",
    "            details.append(details[7]+details[8])\n",
    "            print 'Weighted mark for Assignment 1:{d[5]}'.format(d=details)\n",
    "            print 'Weighted mark for Assignment 2:{d[6]}'.format(d=details)\n",
    "            print 'Total weighted mark of the assignments:{d[7]}'.format(d=details)\n",
    "            print 'Weighted mark for the Final Exam is:{d[8]}'.format(d=details)\n",
    "            print 'Total weighted mark for the subject::{d[9]}'.format(d=details)\n",
    "            print details\n",
    "            "
   ]
  },
  {
   "cell_type": "code",
   "execution_count": null,
   "metadata": {
    "collapsed": false
   },
   "outputs": [
    {
     "name": "stdout",
     "output_type": "stream",
     "text": [
      "Welcome to the AGoS System of UIA\n",
      "Please Select an Option\n",
      "<A>add details of a student.\n",
      "<S>search student details for a student.\n",
      "<Q>quit.\n",
      "a\n",
      "Please enter the student ID :121\n",
      "Please enter the student name:dcscc\n",
      "Please enter the marks for Assignment 1:80\n",
      "Please enter the marks for Assignment 2:90\n",
      "Please enter the marks for the Final Exam:90\n",
      "Thank you !\n",
      "Weighted mark for Assignment 1:16\n",
      "Weighted mark for Assignment 2:27\n",
      "Total weighted mark of the assignments:43\n",
      "Weighted mark for the Final Exam is:45\n",
      "Total weighted mark for the subject::88\n",
      "['121', 'dcscc', 80, 90, 90, 16, 27, 43, 45, 88]\n",
      "Welcome to the AGoS System of UIA\n"
     ]
    }
   ],
   "source": [
    "while True:\n",
    "    print \"Welcome to the AGoS System of UIA\"\n",
    "    option = raw_input('Please Select an Option\\n<A>add details of a student.\\n'\n",
    "    '<S>search student details for a student.\\n<Q>quit.\\n')\n",
    "    details = []\n",
    "    if option == 'a':\n",
    "        details.append(raw_input('Please enter the student ID :'))\n",
    "        details.append(raw_input('Please enter the student name:'))\n",
    "        details.append(int(raw_input('Please enter the marks for Assignment 1:')))\n",
    "        details.append(int(raw_input('Please enter the marks for Assignment 2:')))\n",
    "        details.append(int(raw_input('Please enter the marks for the Final Exam:')))\n",
    "        print \"Thank you !\"\n",
    "        if details[2] <= 80:\n",
    "            details.append(16)\n",
    "            details.append(27)\n",
    "            details.append(details[5]+details[6])\n",
    "            details.append(details[4]/2)\n",
    "            details.append(details[7]+details[8])\n",
    "            print 'Weighted mark for Assignment 1:{d[5]}'.format(d=details)\n",
    "            print 'Weighted mark for Assignment 2:{d[6]}'.format(d=details)\n",
    "            print 'Total weighted mark of the assignments:{d[7]}'.format(d=details)\n",
    "            print 'Weighted mark for the Final Exam is:{d[8]}'.format(d=details)\n",
    "            print 'Total weighted mark for the subject::{d[9]}'.format(d=details)\n",
    "            print details\n",
    "            "
   ]
  },
  {
   "cell_type": "code",
   "execution_count": null,
   "metadata": {
    "collapsed": false
   },
   "outputs": [
    {
     "name": "stdout",
     "output_type": "stream",
     "text": [
      "Welcome to the AGoS System of UIA\n",
      "Please Select an Option\n",
      "<A>add details of a student.\n",
      "<S>search student details for a student.\n",
      "<Q>quit.\n",
      "a\n",
      "Please enter the student ID :96\n",
      "Please enter the student name:98\n",
      "Please enter the marks for Assignment 1:97\n",
      "Please enter the marks for Assignment 2:93\n",
      "Please enter the marks for the Final Exam:94\n",
      "Thank you !\n",
      "Weighted mark for Assignment 1:20\n",
      "Weighted mark for Assignment 2:30\n",
      "Total weighted mark of the assignments:50\n",
      "Weighted mark for the Final Exam is:47\n",
      "Total weighted mark for the subject::97\n",
      "['96', '98', 97, 93, 94, 20, 30, 50, 47, 97]\n",
      "Welcome to the AGoS System of UIA\n"
     ]
    }
   ],
   "source": [
    "while True:\n",
    "    print \"Welcome to the AGoS System of UIA\"\n",
    "    option = raw_input('Please Select an Option\\n<A>add details of a student.\\n'\n",
    "    '<S>search student details for a student.\\n<Q>quit.\\n')\n",
    "    details = []\n",
    "    if option == 'a' or 'A':\n",
    "        details.append(raw_input('Please enter the student ID :'))\n",
    "        details.append(raw_input('Please enter the student name:'))\n",
    "        details.append(int(raw_input('Please enter the marks for Assignment 1:')))\n",
    "        details.append(int(raw_input('Please enter the marks for Assignment 2:')))\n",
    "        details.append(int(raw_input('Please enter the marks for the Final Exam:')))\n",
    "        print \"Thank you !\"\n",
    "        if details[2] <= 80:\n",
    "            details.append(16)\n",
    "            details.append(27)\n",
    "        else:\n",
    "            details.append(20)\n",
    "            details.append(30)\n",
    "        details.append(details[5]+details[6])\n",
    "        details.append(details[4]/2)\n",
    "        details.append(details[7]+details[8])\n",
    "        print 'Weighted mark for Assignment 1:{d[5]}'.format(d=details)\n",
    "        print 'Weighted mark for Assignment 2:{d[6]}'.format(d=details)\n",
    "        print 'Total weighted mark of the assignments:{d[7]}'.format(d=details)\n",
    "        print 'Weighted mark for the Final Exam is:{d[8]}'.format(d=details)\n",
    "        print 'Total weighted mark for the subject::{d[9]}'.format(d=details)\n",
    "        print details\n",
    "            "
   ]
  },
  {
   "cell_type": "code",
   "execution_count": null,
   "metadata": {
    "collapsed": false
   },
   "outputs": [
    {
     "name": "stdout",
     "output_type": "stream",
     "text": [
      "Welcome to the AGoS System of UIA\n",
      "Please Select an Option\n",
      "<A>add details of a student.\n",
      "<S>search student details for a student.\n",
      "<Q>quit.\n",
      "s\n",
      "Please enter the student ID :1\n",
      "Please enter the student name:2\n",
      "Please enter the marks for Assignment 1:2\n",
      "Please enter the marks for Assignment 2:2\n",
      "Please enter the marks for the Final Exam:2\n",
      "Thank you !\n",
      "Weighted mark for Assignment 1:16\n",
      "Weighted mark for Assignment 2:27\n",
      "Total weighted mark of the assignments:43\n",
      "Weighted mark for the Final Exam is:1\n",
      "Total weighted mark for the subject::44\n",
      "Welcome to the AGoS System of UIA\n",
      "Please Select an Option\n",
      "<A>add details of a student.\n",
      "<S>search student details for a student.\n",
      "<Q>quit.\n",
      "s\n"
     ]
    }
   ],
   "source": [
    "while True:\n",
    "    print \"Welcome to the AGoS System of UIA\"\n",
    "    option = raw_input('Please Select an Option\\n<A>add details of a student.\\n'\n",
    "    '<S>search student details for a student.\\n<Q>quit.\\n')\n",
    "    details = []\n",
    "    if option == 'a' or 'A':\n",
    "        details.append(raw_input('Please enter the student ID :'))\n",
    "        details.append(raw_input('Please enter the student name:'))\n",
    "        details.append(int(raw_input('Please enter the marks for Assignment 1:')))\n",
    "        details.append(int(raw_input('Please enter the marks for Assignment 2:')))\n",
    "        details.append(int(raw_input('Please enter the marks for the Final Exam:')))\n",
    "        print \"Thank you !\"\n",
    "        if details[2] <= 80:\n",
    "            details.append(16)\n",
    "            details.append(27)\n",
    "        else:\n",
    "            details.append(20)\n",
    "            details.append(30)\n",
    "        details.append(details[5]+details[6])\n",
    "        details.append(details[4]/2)\n",
    "        details.append(details[7]+details[8])\n",
    "        print 'Weighted mark for Assignment 1:{d[5]}'.format(d=details)\n",
    "        print 'Weighted mark for Assignment 2:{d[6]}'.format(d=details)\n",
    "        print 'Total weighted mark of the assignments:{d[7]}'.format(d=details)\n",
    "        print 'Weighted mark for the Final Exam is:{d[8]}'.format(d=details)\n",
    "        print 'Total weighted mark for the subject::{d[9]}'.format(d=details)\n",
    "    elif option == 's' or 'S':\n",
    "        search = int(raw_input('Please Enter the Student Id to Search: '))\n",
    "        if search == details[0]:\n",
    "            print 'Details of student are {d[0]} {d[1]} {d[2]}' \n",
    "            '{d[3]} {d[4]} {d[5]} {d[6]} {d[7]} {d[8]} {d[9]}'.format(d=details)\n",
    "    "
   ]
  },
  {
   "cell_type": "code",
   "execution_count": null,
   "metadata": {
    "collapsed": false
   },
   "outputs": [
    {
     "name": "stdout",
     "output_type": "stream",
     "text": [
      "Welcome to the AGoS System of UIA\n",
      "Please Select an Option\n",
      "<A>add details of a student.\n",
      "<S>search student details for a student.\n",
      "<Q>quit.\n",
      "s\n"
     ]
    }
   ],
   "source": [
    "while True:\n",
    "    print \"Welcome to the AGoS System of UIA\"\n",
    "    option = raw_input('Please Select an Option\\n<A>add details of a student.\\n'\n",
    "    '<S>search student details for a student.\\n<Q>quit.\\n')\n",
    "    details = []\n",
    "    if option.lower() == 'a':\n",
    "        details.append(raw_input('Please enter the student ID :'))\n",
    "        details.append(raw_input('Please enter the student name:'))\n",
    "        details.append(int(raw_input('Please enter the marks for Assignment 1:')))\n",
    "        details.append(int(raw_input('Please enter the marks for Assignment 2:')))\n",
    "        details.append(int(raw_input('Please enter the marks for the Final Exam:')))\n",
    "        print \"Thank you !\"\n",
    "        if details[2] <= 80:\n",
    "            details.append(16)\n",
    "            details.append(27)\n",
    "        else:\n",
    "            details.append(20)\n",
    "            details.append(30)\n",
    "        details.append(details[5]+details[6])\n",
    "        details.append(details[4]/2)\n",
    "        details.append(details[7]+details[8])\n",
    "        print 'Weighted mark for Assignment 1:{d[5]}'.format(d=details)\n",
    "        print 'Weighted mark for Assignment 2:{d[6]}'.format(d=details)\n",
    "        print 'Total weighted mark of the assignments:{d[7]}'.format(d=details)\n",
    "        print 'Weighted mark for the Final Exam is:{d[8]}'.format(d=details)\n",
    "        print 'Total weighted mark for the subject::{d[9]}'.format(d=details)\n",
    "        print details\n",
    "            "
   ]
  },
  {
   "cell_type": "code",
   "execution_count": null,
   "metadata": {
    "collapsed": false
   },
   "outputs": [],
   "source": [
    "while True:\n",
    "    print \"Welcome to the AGoS System of UIA\"\n",
    "    option = raw_input('Please Select an Option\\n<A>add details of a student.\\n'\n",
    "    '<S>search student details for a student.\\n<Q>quit.\\n')\n",
    "    details = []\n",
    "    if option.lower() == 'a':\n",
    "        details.append(raw_input('Please enter the student ID :'))\n",
    "        details.append(raw_input('Please enter the student name:'))\n",
    "        details.append(int(raw_input('Please enter the marks for Assignment 1:')))\n",
    "        details.append(int(raw_input('Please enter the marks for Assignment 2:')))\n",
    "        details.append(int(raw_input('Please enter the marks for the Final Exam:')))\n",
    "        print \"Thank you !\"\n",
    "        if details[2] <= 80:\n",
    "            details.append(16)\n",
    "            details.append(27)\n",
    "        else:\n",
    "            details.append(20)\n",
    "            details.append(30)\n",
    "        details.append(details[5]+details[6])\n",
    "        details.append(details[4]/2)\n",
    "        details.append(details[7]+details[8])\n",
    "        print 'Weighted mark for Assignment 1:{d[5]}'.format(d=details)\n",
    "        print 'Weighted mark for Assignment 2:{d[6]}'.format(d=details)\n",
    "        print 'Total weighted mark of the assignments:{d[7]}'.format(d=details)\n",
    "        print 'Weighted mark for the Final Exam is:{d[8]}'.format(d=details)\n",
    "        print 'Total weighted mark for the subject::{d[9]}'.format(d=details)\n",
    "        print details\n",
    "        elif option.lower() == 's'\n",
    "        search = int(raw_input('Please Enter the Student Id to Search: '))\n",
    "        if search == details[0]:\n",
    "            print 'Details of student are {d[0]} {d[1]} {d[2]}' \n",
    "            '{d[3]} {d[4]} {d[5]} {d[6]} {d[7]} {d[8]} {d[9]}'.format(d=details)\n",
    "            "
   ]
  },
  {
   "cell_type": "code",
   "execution_count": 1,
   "metadata": {
    "collapsed": false
   },
   "outputs": [
    {
     "ename": "NameError",
     "evalue": "name 'details' is not defined",
     "output_type": "error",
     "traceback": [
      "\u001b[0;31m---------------------------------------------------------------------------\u001b[0m",
      "\u001b[0;31mNameError\u001b[0m                                 Traceback (most recent call last)",
      "\u001b[0;32m<ipython-input-1-2377ac9e3394>\u001b[0m in \u001b[0;36m<module>\u001b[0;34m()\u001b[0m\n\u001b[0;32m----> 1\u001b[0;31m \u001b[1;32mprint\u001b[0m \u001b[0mdetails\u001b[0m\u001b[1;33m\u001b[0m\u001b[0m\n\u001b[0m",
      "\u001b[0;31mNameError\u001b[0m: name 'details' is not defined"
     ]
    }
   ],
   "source": [
    "print details"
   ]
  },
  {
   "cell_type": "code",
   "execution_count": null,
   "metadata": {
    "collapsed": true
   },
   "outputs": [],
   "source": []
  }
 ],
 "metadata": {
  "kernelspec": {
   "display_name": "Python 2",
   "language": "python",
   "name": "python2"
  },
  "language_info": {
   "codemirror_mode": {
    "name": "ipython",
    "version": 2
   },
   "file_extension": ".py",
   "mimetype": "text/x-python",
   "name": "python",
   "nbconvert_exporter": "python",
   "pygments_lexer": "ipython2",
   "version": "2.7.13"
  }
 },
 "nbformat": 4,
 "nbformat_minor": 2
}
