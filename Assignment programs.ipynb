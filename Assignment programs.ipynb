{
 "cells": [
  {
   "cell_type": "code",
   "execution_count": 1,
   "metadata": {
    "collapsed": false
   },
   "outputs": [
    {
     "name": "stdout",
     "output_type": "stream",
     "text": [
      "False\n"
     ]
    }
   ],
   "source": [
    "a = \"shht4da\"\n",
    "print a.isdigit()"
   ]
  },
  {
   "cell_type": "code",
   "execution_count": 43,
   "metadata": {
    "collapsed": false
   },
   "outputs": [
    {
     "name": "stdout",
     "output_type": "stream",
     "text": [
      "False\n",
      "False\n",
      "False\n",
      "False\n",
      "False\n",
      "False\n",
      "False\n",
      "False\n"
     ]
    }
   ],
   "source": [
    "a = \"SShh5fff\"\n",
    "for s in a:\n",
    "    if a.isdigit():\n",
    "        print \"True\"\n",
    "    else:\n",
    "        print \"False\""
   ]
  },
  {
   "cell_type": "code",
   "execution_count": null,
   "metadata": {
    "collapsed": true
   },
   "outputs": [],
   "source": []
  },
  {
   "cell_type": "code",
   "execution_count": 11,
   "metadata": {
    "collapsed": false
   },
   "outputs": [
    {
     "name": "stdout",
     "output_type": "stream",
     "text": [
      "Enter a Value: Sharath111\n",
      "False\n"
     ]
    }
   ],
   "source": [
    "# To Check the given sting contains only digits or not\n",
    "a = raw_input(\"Enter a Value: \")\n",
    "if a.isdigit():\n",
    "    print \"True\"\n",
    "else:\n",
    "    print \"False\""
   ]
  },
  {
   "cell_type": "code",
   "execution_count": 12,
   "metadata": {
    "collapsed": false
   },
   "outputs": [
    {
     "name": "stdout",
     "output_type": "stream",
     "text": [
      "Enter a Value: 1111\n",
      "True\n"
     ]
    }
   ],
   "source": [
    "# To Check the given sting contains only digits or not\n",
    "a = raw_input(\"Enter a Value: \")\n",
    "if a.isdigit():\n",
    "    print \"True\"\n",
    "else:\n",
    "    print \"False\""
   ]
  },
  {
   "cell_type": "code",
   "execution_count": 13,
   "metadata": {
    "collapsed": false
   },
   "outputs": [
    {
     "name": "stdout",
     "output_type": "stream",
     "text": [
      "Enter a Value: \n",
      "False\n"
     ]
    }
   ],
   "source": [
    "# To Check the given sting contains only digits or not\n",
    "a = raw_input(\"Enter a Value: \")\n",
    "if a.isdigit():\n",
    "    print \"Sting Contains Digits\"\n",
    "else:\n",
    "    print \"Sting doesn't Contains Digits\""
   ]
  },
  {
   "cell_type": "code",
   "execution_count": 14,
   "metadata": {
    "collapsed": false
   },
   "outputs": [
    {
     "name": "stdout",
     "output_type": "stream",
     "text": [
      "Enter a Value: @@2\n",
      "Sting doesn't Contains Digits\n"
     ]
    }
   ],
   "source": [
    "# To Check the given sting contains only digits or not\n",
    "a = raw_input(\"Enter a Value: \")\n",
    "if a.isdigit():\n",
    "    print \"Sting Contains Only Digits\"\n",
    "else:\n",
    "    print \"Sting doesn't Only Contains \""
   ]
  },
  {
   "cell_type": "code",
   "execution_count": 15,
   "metadata": {
    "collapsed": false
   },
   "outputs": [
    {
     "name": "stdout",
     "output_type": "stream",
     "text": [
      "Enter a Value: afbdjf\n",
      "Sting Contains lower case letters\n"
     ]
    }
   ],
   "source": [
    "a = raw_input(\"Enter a Value: \")\n",
    "if a.islower():\n",
    "    print \"Sting Contains lower case letters\"\n",
    "else:\n",
    "    print \"Sting doesn't contains lower case letters \""
   ]
  },
  {
   "cell_type": "code",
   "execution_count": 16,
   "metadata": {
    "collapsed": false
   },
   "outputs": [
    {
     "name": "stdout",
     "output_type": "stream",
     "text": [
      "Enter a Value:  \n",
      "Sting doesn't contains lower case letters \n"
     ]
    }
   ],
   "source": [
    "# To Check the given sting contains only Lower case letters or not\n",
    "a = raw_input(\"Enter a Value: \")\n",
    "if a.islower():\n",
    "    print \"Sting Contains lower case letters\"\n",
    "else:\n",
    "    print \"Sting doesn't contains lower case letters \""
   ]
  },
  {
   "cell_type": "code",
   "execution_count": 17,
   "metadata": {
    "collapsed": false
   },
   "outputs": [
    {
     "name": "stdout",
     "output_type": "stream",
     "text": [
      "Enter a Value: \n",
      "Sting doesn't contains lower case letters \n"
     ]
    }
   ],
   "source": [
    "# To Check the given sting contains only Lower case letters or not\n",
    "a = raw_input(\"Enter a Value: \")\n",
    "if a.islower():\n",
    "    print \"Sting Contains lower case letters\"\n",
    "else:\n",
    "    print \"Sting doesn't contains lower case letters \""
   ]
  },
  {
   "cell_type": "code",
   "execution_count": 18,
   "metadata": {
    "collapsed": false
   },
   "outputs": [
    {
     "name": "stdout",
     "output_type": "stream",
     "text": [
      "Enter a Value: Sharath\n",
      "Sting doesn't contains lower case letters \n"
     ]
    }
   ],
   "source": [
    "# To Check the given sting contains only Lower case letters or not\n",
    "a = raw_input(\"Enter a Value: \")\n",
    "if a.islower():\n",
    "    print \"Sting Contains lower case letters\"\n",
    "else:\n",
    "    print \"Sting doesn't contains lower case letters \""
   ]
  },
  {
   "cell_type": "code",
   "execution_count": 19,
   "metadata": {
    "collapsed": false
   },
   "outputs": [
    {
     "name": "stdout",
     "output_type": "stream",
     "text": [
      "Enter a Value: sharaTuj44\n",
      "Sting doesn't contains lower case letters \n"
     ]
    }
   ],
   "source": [
    "# To Check the given sting contains only Lower case letters or not\n",
    "a = raw_input(\"Enter a Value: \")\n",
    "if a.islower():\n",
    "    print \"Sting Contains lower case letters\"\n",
    "else:\n",
    "    print \"Sting doesn't contains lower case letters \""
   ]
  },
  {
   "cell_type": "code",
   "execution_count": 20,
   "metadata": {
    "collapsed": false
   },
   "outputs": [
    {
     "name": "stdout",
     "output_type": "stream",
     "text": [
      "Enter a Value: asrfawef\n",
      "Sting Contains lower case letters\n"
     ]
    }
   ],
   "source": [
    "# To Check the given sting contains only Lower case letters or not\n",
    "a = raw_input(\"Enter a Value: \")\n",
    "if a.islower():\n",
    "    print \"Sting Contains only lower case letters\"\n",
    "else:\n",
    "    print \"Sting doesn't contains only lower case letters \""
   ]
  },
  {
   "cell_type": "code",
   "execution_count": 25,
   "metadata": {
    "collapsed": false
   },
   "outputs": [
    {
     "name": "stdout",
     "output_type": "stream",
     "text": [
      "Enter a Value: afef2wdfwe\n",
      "Sting Contains only lower case letters\n"
     ]
    }
   ],
   "source": [
    "# To Check the given sting contains only Lower case letters or not\n",
    "a = raw_input(\"Enter a Value: \")\n",
    "if a.islower() == True:\n",
    "    print \"Sting Contains only lower case letters\"\n",
    "else:\n",
    "    print \"Sting doesn't contains only lower case letters \""
   ]
  },
  {
   "cell_type": "code",
   "execution_count": 26,
   "metadata": {
    "collapsed": false
   },
   "outputs": [
    {
     "name": "stdout",
     "output_type": "stream",
     "text": [
      "Enter a Value: vavdvdvQsdfdds\n",
      "Sting doesn't contains only lower case letters \n"
     ]
    }
   ],
   "source": [
    "# To Check the given sting contains only Lower case letters or not\n",
    "a = raw_input(\"Enter a Value: \")\n",
    "if a.islower() == True:\n",
    "    print \"Sting Contains only lower case letters\"\n",
    "else:\n",
    "    print \"Sting doesn't contains only lower case letters \""
   ]
  },
  {
   "cell_type": "code",
   "execution_count": 29,
   "metadata": {
    "collapsed": false
   },
   "outputs": [
    {
     "name": "stdout",
     "output_type": "stream",
     "text": [
      "Enter a string: EFWWEIOFE\n",
      "False\n"
     ]
    }
   ],
   "source": [
    "def Small(s):\n",
    "    count=0\n",
    "    for i in s:\n",
    "        if i.islower():\n",
    "            count= count+1\n",
    "            break\n",
    "        if count == 0:\n",
    "            return False\n",
    "        else:\n",
    "            return True\n",
    "smll = raw_input(\"Enter a string: \")\n",
    "print Small(smll)"
   ]
  },
  {
   "cell_type": "code",
   "execution_count": 30,
   "metadata": {
    "collapsed": false
   },
   "outputs": [
    {
     "name": "stdout",
     "output_type": "stream",
     "text": [
      "Enter a string: ksdkjsddkjh\n",
      "None\n"
     ]
    }
   ],
   "source": [
    "def Small(s):\n",
    "    count=0\n",
    "    for i in s:\n",
    "        if i.islower():\n",
    "            count= count+1\n",
    "            break\n",
    "        if count == 0:\n",
    "            return False\n",
    "        else:\n",
    "            return True\n",
    "smll = raw_input(\"Enter a string: \")\n",
    "print Small(smll)"
   ]
  },
  {
   "cell_type": "code",
   "execution_count": 31,
   "metadata": {
    "collapsed": false
   },
   "outputs": [
    {
     "name": "stdout",
     "output_type": "stream",
     "text": [
      "Enter a string: fdsevd\n",
      "True\n"
     ]
    }
   ],
   "source": [
    "def Small(s):\n",
    "    count=0\n",
    "    for i in s:\n",
    "        if i.islower():\n",
    "            count= count+1\n",
    "            break\n",
    "    if count == 0:\n",
    "        return False\n",
    "    else:\n",
    "         return True\n",
    "smll = raw_input(\"Enter a string: \")\n",
    "print Small(smll)"
   ]
  },
  {
   "cell_type": "code",
   "execution_count": 32,
   "metadata": {
    "collapsed": false
   },
   "outputs": [
    {
     "name": "stdout",
     "output_type": "stream",
     "text": [
      "Enter a string: sdvdsadsvD\n",
      "True\n"
     ]
    }
   ],
   "source": [
    "def Small(s):\n",
    "    count=0\n",
    "    for i in s:\n",
    "        if i.islower():\n",
    "            count= count+1\n",
    "            break\n",
    "    if count == 0:\n",
    "        return False\n",
    "    else:\n",
    "         return True\n",
    "smll = raw_input(\"Enter a string: \")\n",
    "print Small(smll)"
   ]
  },
  {
   "cell_type": "code",
   "execution_count": 34,
   "metadata": {
    "collapsed": false
   },
   "outputs": [
    {
     "name": "stdout",
     "output_type": "stream",
     "text": [
      "Enter a string: dsksdkl5\n",
      "True\n"
     ]
    }
   ],
   "source": [
    "#Print true atease one digit is there in the string will return true\n",
    "def Small(s):\n",
    "    count=0\n",
    "    for i in s:\n",
    "        if i.isdigit():\n",
    "            count= count+1\n",
    "            break\n",
    "    if count == 0:\n",
    "        return False\n",
    "    else:\n",
    "         return True\n",
    "smll = raw_input(\"Enter a string: \")\n",
    "print Small(smll)"
   ]
  },
  {
   "cell_type": "code",
   "execution_count": 35,
   "metadata": {
    "collapsed": false
   },
   "outputs": [
    {
     "name": "stdout",
     "output_type": "stream",
     "text": [
      "Enter a string: 1askjnsak\n",
      "True\n"
     ]
    }
   ],
   "source": [
    "def Small(s):\n",
    "    count=0\n",
    "    for i in s:\n",
    "        if i.isdigit():\n",
    "            count= count+1\n",
    "            break\n",
    "    if count == 0:\n",
    "        return False\n",
    "    else:\n",
    "         return True\n",
    "smll = raw_input(\"Enter a string: \")\n",
    "print Small(smll)"
   ]
  },
  {
   "cell_type": "code",
   "execution_count": 36,
   "metadata": {
    "collapsed": false
   },
   "outputs": [
    {
     "name": "stdout",
     "output_type": "stream",
     "text": [
      "Enter a string: SHhh\n",
      "False\n"
     ]
    }
   ],
   "source": [
    "#Print true atease one digit is there in the string will return true\n",
    "def Small(s):\n",
    "    count=0\n",
    "    for i in s:\n",
    "        if i.isdigit():\n",
    "            count= count+1\n",
    "            break\n",
    "    if count == 0:\n",
    "        return False\n",
    "    else:\n",
    "         return True\n",
    "smll = raw_input(\"Enter a string: \")\n",
    "print Small(smll)"
   ]
  },
  {
   "cell_type": "code",
   "execution_count": 42,
   "metadata": {
    "collapsed": false
   },
   "outputs": [
    {
     "name": "stdout",
     "output_type": "stream",
     "text": [
      "Enter string: fdjdfjkdfvfdkA\n",
      "contains capital at fdjdfjkdfvfdkA\n"
     ]
    }
   ],
   "source": [
    "s=raw_input(\"Enter string: \")\n",
    "for ch in s:\n",
    "    if ch.isupper():\n",
    "        print \"contains capital: \"\n",
    "        break\n",
    "else:\n",
    "    print \"given string does not contains caps\""
   ]
  },
  {
   "cell_type": "code",
   "execution_count": 1,
   "metadata": {
    "collapsed": false
   },
   "outputs": [
    {
     "name": "stdout",
     "output_type": "stream",
     "text": [
      "contains other letters also\n"
     ]
    }
   ],
   "source": [
    "a = \"SShh5fff\"\n",
    "count = 0\n",
    "for s in a:\n",
    "    if s.islower():\n",
    "        count=count+1\n",
    "if len(a)==count:\n",
    "    print \"omy contains small letters\"\n",
    "else:\n",
    "    print \"contains other letters also\""
   ]
  },
  {
   "cell_type": "code",
   "execution_count": 2,
   "metadata": {
    "collapsed": false
   },
   "outputs": [
    {
     "name": "stdout",
     "output_type": "stream",
     "text": [
      "contains other letters also\n"
     ]
    }
   ],
   "source": [
    "a = \"SShh5fff\"\n",
    "count = 0\n",
    "for s in a:\n",
    "    if not s.islower():\n",
    "        count=count+1\n",
    "if count==0:\n",
    "    print \"omy contains small letters\"\n",
    "else:\n",
    "    print \"contains other letters also\""
   ]
  },
  {
   "cell_type": "code",
   "execution_count": 3,
   "metadata": {
    "collapsed": false
   },
   "outputs": [
    {
     "name": "stdout",
     "output_type": "stream",
     "text": [
      "contains other letters also\n"
     ]
    }
   ],
   "source": [
    "a = \"SShh5fff\"\n",
    "count = 0\n",
    "for s in a:\n",
    "    if not s.islower():\n",
    "        count=count+1\n",
    "        break\n",
    "if count==0:\n",
    "    print \"omy contains small letters\"\n",
    "else:\n",
    "    print \"contains other letters also\""
   ]
  },
  {
   "cell_type": "code",
   "execution_count": 12,
   "metadata": {
    "collapsed": false
   },
   "outputs": [
    {
     "name": "stdout",
     "output_type": "stream",
     "text": [
      "Enter a String : CCCC\n",
      "contains other letters also\n"
     ]
    }
   ],
   "source": [
    "#To print contain only small letters only\n",
    "a = raw_input(\"Enter a String : \")\n",
    "#count = 0\n",
    "for s in a:\n",
    "    if not s.islower():\n",
    "        #count=count+1\n",
    "        print \"contains other letters also\"\n",
    "        break\n",
    "#if count==0:\n",
    "   # print \"omy contains small letters\"\n",
    "else:\n",
    "    \n",
    "    print \"contains small letters\""
   ]
  },
  {
   "cell_type": "code",
   "execution_count": null,
   "metadata": {
    "collapsed": true
   },
   "outputs": [],
   "source": []
  }
 ],
 "metadata": {
  "kernelspec": {
   "display_name": "Python 2",
   "language": "python",
   "name": "python2"
  },
  "language_info": {
   "codemirror_mode": {
    "name": "ipython",
    "version": 2
   },
   "file_extension": ".py",
   "mimetype": "text/x-python",
   "name": "python",
   "nbconvert_exporter": "python",
   "pygments_lexer": "ipython2",
   "version": "2.7.13"
  }
 },
 "nbformat": 4,
 "nbformat_minor": 2
}
